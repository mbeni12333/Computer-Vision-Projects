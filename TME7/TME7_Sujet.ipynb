{
 "cells": [
  {
   "cell_type": "markdown",
   "metadata": {},
   "source": [
    "# TME 7 : Détection d'objets simples (II) :"
   ]
  },
  {
   "cell_type": "markdown",
   "metadata": {},
   "source": [
    "> Consignes: le fichier TME7_Sujet.ipynb est à déposer sur le site Moodle de l'UE https://moodle-sciences.upmc.fr/moodle-2019/course/view.php?id=4248. Si vous êtes en binôme, renommez-le en TME7_nom1_nom2.ipynb.\n",
    "\n",
    "N'oubliez pas de sauvegarder fréquemment votre notebook !! ...\n",
    "\n",
    "Pour chaque questions, écrivez des commentaires brefs et concis lorsque demandé dans les cases **Commentaires**."
   ]
  },
  {
   "cell_type": "code",
   "execution_count": null,
   "metadata": {},
   "outputs": [],
   "source": [
    "### Chargement des modules et des données utiles.\n",
    "\n",
    "from PIL import Image\n",
    "from pylab import *\n",
    "from scipy.signal import convolve2d\n",
    "from skimage import morphology\n",
    "from time import process_time\n",
    "\n",
    "### charger les images et les convertir en tableaux Numpy\n",
    "rectangle = array(Image.open(\"images/rectangle.png\"))/255\n",
    "\n",
    "carrelage = array(Image.open(\"images/carrelage_wikipedia.jpg\"))/255\n",
    "jussieu = array(Image.open(\"images/Jussieu_wikipedia.jpg\"))/255\n",
    "house = array(Image.open(\"images/house2.jpg\"))/255\n",
    "#rotate = array(Image.open(\"images/rotate.png\"))\n",
    "table = array(Image.open(\"images/table.png\"))/255\n",
    "chaise = array(Image.open(\"images/chaise.png\"))/255\n",
    "\n",
    "### image synthétique pour mise au point\n",
    "def image_contours_ligne_simple():\n",
    "    \"\"\" NoneType -> Array\n",
    "    Construit une image de contours seuillée de taille 500x500 avec une ligne.\n",
    "    \"\"\"\n",
    "    image_contours = zeros((500,500))\n",
    "    for t in range(200):\n",
    "        image_contours[ t + 100, t] = 1\n",
    "    return image_contours\n",
    "\n",
    "### Fonctions d'affichage\n",
    "def affichage_14(affichages,titres=None):\n",
    "    \"\"\" list[Array]*list[str] -> NoneType\n",
    "    Dffectue entre 1 et 4 affichages avec leurs titres, pour des images ou courbes\n",
    "    \n",
    "    Paramètres :\n",
    "      - liste des affichages (entre 1 et 4)\n",
    "      - liste des titres (entre 1 et 4, autant que de affichages), optionnelle    \n",
    "    \"\"\"\n",
    "    \n",
    "    if not type(affichages) == type([]):\n",
    "        affichages = [affichages]\n",
    "        \n",
    "    if titres is None:\n",
    "        titres = ['',]*len(affichages)\n",
    "        \n",
    "    if not type(titres) == type([]):\n",
    "        titres = [titres]\n",
    "    \n",
    "    nb_affichages = len(affichages)\n",
    "    if nb_affichages >4 or nb_affichages < 1 :\n",
    "        raise ValueError('affichage_14 nécéssite 1 à 4 entrées en paramètre')        \n",
    "        \n",
    "    if nb_affichages != len(titres):\n",
    "        raise ValueError('affichage_14 nécéssite autant de titres que d\\'affichages')\n",
    "        \n",
    "    courbes = False\n",
    "    for i in range(0,nb_affichages):\n",
    "        s = subplot(101+10*nb_affichages+i)\n",
    "        s.set_title(titres[i])\n",
    "        if len(affichages[i].shape)==2 and affichages[i].shape[0] > 1 and affichages[i].shape[1] > 1:\n",
    "            # on affiche une image\n",
    "            s.imshow(affichages[i], cmap=\"gray\",interpolation='nearest', aspect='equal')\n",
    "        else :\n",
    "            # il s'agit d'une seule ligne, à afficher comme une courbe\n",
    "            plot(affichages[i])\n",
    "            courbes=True\n",
    "\n",
    "    agrandissement_h = nb_affichages\n",
    "    agrandissement_v = nb_affichages*2 if courbes else nb_affichages\n",
    "    params = gcf()\n",
    "    plSize = params.get_size_inches()\n",
    "    params.set_size_inches( (plSize[0]*agrandissement_v, plSize[1]*agrandissement_h) )\n",
    "    show()\n",
    "\n",
    "\n",
    "def trace_image_et_cercles(image, liste_cercles):\n",
    "    \"\"\"\n",
    "    Array*list[tuple(int,int,int)] -> NoneType\n",
    "    Affichage supperposé d'une image et de cercles.\n",
    "    \"\"\"\n",
    "    fig, ax = subplots()\n",
    "    imshow(image, cmap=cm.gray)\n",
    "    for cercle in liste_cercles:\n",
    "        rayon = cercle[0]\n",
    "        X_c = cercle[2]\n",
    "        Y_c = cercle[1]\n",
    "        circle1 = Circle((X_c, Y_c),rayon,color='r', fill=False)\n",
    "        gcf().gca().add_artist(circle1)\n",
    "        \n",
    "    set_xlim((0, image.shape[1]))\n",
    "    set_ylim((image.shape[0], 0))\n",
    "    set_axis_off()\n",
    "    set_title('Cercles détectés')\n",
    "    show()\n",
    "\n",
    "### Fonctions de chronométrage\n",
    "mytime = 0\n",
    "def tic():\n",
    "    global mytime\n",
    "    mytime = process_time()\n",
    "def tac():\n",
    "    global mytime\n",
    "    print (process_time()-mytime)\n",
    "    mytime = process_time()\n"
   ]
  },
  {
   "cell_type": "markdown",
   "metadata": {},
   "source": [
    "## Exercice 1 — Transformée de Hough: détection de droites"
   ]
  },
  {
   "cell_type": "markdown",
   "metadata": {},
   "source": [
    "### Question 1 : Calcul de l'accumulateur à partir d'une image de contours, version boucle"
   ]
  },
  {
   "cell_type": "markdown",
   "metadata": {
    "scrolled": true
   },
   "source": [
    "On dispose d'une image de contours binarisée. On cherche à calculer la transformée de Hough correspondant.\n",
    "\n",
    "1. Écrire la fonction ```houghl()``` qui renvoie la transformée de Hough pour les droites de l'image de contours binarisée. On utilisera l'algorithme données en TD. \n",
    "\n",
    "La fonction prendra pour arguments:\n",
    "- l'image de contours: adges, \n",
    "- le nombre de pas pour $\\theta$: ``ntheta``,\n",
    "- le nombre de pas pour $\\rho$: ``nrho``,\n",
    "- la tolérance: ``tol`` (qui correspond au test $|x\\cos\\theta+y\\sin\\theta-\\rho|<tol$).\n",
    "\n",
    "**Conseil 1:** remplacer le parcours de l'image par une boucle sur les tableaux d'indices ``X`` et ``Y`` des valeurs non nulles de l'image. On utilisera pour cela la fonction Numpy ```nonzero()``` et la fonction Python ```zip()```. \n",
    "\n",
    "**Conseil 2:** le calcul des cosinus et sinus est coûteux. En remarquant que les 4 boucles imbriquées sont indépendantes les unes des autres et qu'on peut les permuter,  faire en sorte de ne calculer **qu'une seule fois** les valeurs cosinus et sinus pour chaque élément de l'accumulateur de Hough."
   ]
  },
  {
   "cell_type": "code",
   "execution_count": null,
   "metadata": {},
   "outputs": [],
   "source": [
    "def houghl(I,ntheta,nrho,tol):\n",
    "    \"\"\" Array*int*int*float -> Array[int] \"\"\"\n",
    "    "
   ]
  },
  {
   "cell_type": "markdown",
   "metadata": {},
   "source": [
    "2. Tester la fonction ```houghl()``` en l'appliquant à l'image de contours binarisée synthétique très simple générée par la fonction ```image_contours_ligne_simple()```. Afficher l'accumulateur de Hough. Chronométrez également le temps de calcul de la fonction ```hough()```, en prenant des valeurs différentes pour nt et nr. Rappel TD: idéalement nr vaut la longueur d'une diagonale de l'image à traiter et nt pourrait valoir 360 pour avoir une précision de 1 degré, dans un repère polaire. Conseil: essayer d'abord avec des valeurs nettement plus petites, puis augementer les et observer les temps de calcul. Donner un ordre de grandeur de la complexité de cet algorithme."
   ]
  },
  {
   "cell_type": "code",
   "execution_count": null,
   "metadata": {
    "scrolled": true
   },
   "outputs": [],
   "source": []
  },
  {
   "cell_type": "markdown",
   "metadata": {},
   "source": [
    "### Question 2: optimisation de la fonction ``houghl()``\n",
    "\n",
    "Vous avez du constater que le temps de calcul est très long et cela même pour une image très simple. Le temps dépend donc largement des valeurs ```ntheta``` et ```nrho```.\n",
    "Puisque les 4 boucles de l'algorithme (boucles sur indice de ligne, de colonne de l'image de contours à traiter, d'angle et de distance à l'origine) sont indépendantes, on peut imbriquer les parcours sur l'image à l'intérieur du parcours de l'accumulateur de Hough.\n",
    "\n",
    "On pourra alors constater qu'il revient au même de calculer à l'avance les différentes valeurs de $\\rho$ et $\\theta$ et de les placer dans des tableaux. En effet, écrire :\n",
    "````\n",
    "for r in range(nrho):\n",
    "    for t in range(ntheta):\n",
    "       calcul sur t, indépendemment de r\n",
    "       calcul sur r, indépendemment de t\n",
    "````\n",
    "revient à écrire:\n",
    "`````\n",
    "for r in range(nrho):\n",
    "    for t in range(ntheta):\n",
    "        CT[r,t] = f(t)\n",
    "        CR[r,t] = g(r)\n",
    "`````\n",
    "Le calcul des tableaux ``CT`` et ``CR`` peut-être effectué uniquement par appel Numpy **sans utiliser de boucle**: le tableau ``CT`` voit chacune de ses colonnes **identiques** et ``CR`` ses lignes **identiques**. \n",
    "\n",
    "1. En utilisant à bon escient les fonctions ``ones()`` et ```linspace()```, puis facultativement ```meshgrid()```, ou encore plus simplement en gardant les boucles, construire les tableaux ```R```, ```C``` et ```S```. Chaque ligne du tableau ```R``` décrit les mêmes suites de valeurs de $\\rho$. Chaque colonne des tableaux ```C``` et ```S``` décrivent les mêmes suites de valeurs de $\\cos\\theta$ et $\\sin\\theta$. On rappelle que $\\rho$ et $\\theta$ vérifient l'équation $x\\cos\\theta + y\\sin\\theta = \\rho$  pour $x$ et $y$ les coordonnées d'un point de contours dans l'image. Pour la version boucle, quelle est la complexité ? Est-elle acceptable pour un script Python ?"
   ]
  },
  {
   "cell_type": "code",
   "execution_count": null,
   "metadata": {},
   "outputs": [],
   "source": [
    "# pour tester\n",
    "nrho,ntheta = 4,6\n",
    "n,m = 50,50\n",
    "\n"
   ]
  },
  {
   "cell_type": "markdown",
   "metadata": {},
   "source": [
    "2. Soit $(x_1,y_1),..,(x_n,y_n)$ la liste des $n$ points de contours dans l'image de contours binarisée que l'on doit analyser, remarquer alors que $H = \\sum_{i=1}^n |x_i C + y_i S - R| <= tol$. En déduire une version 2 de la fonction ``houghl_opt()``. Comparer le temps d'exécution avec la version précédente. "
   ]
  },
  {
   "cell_type": "code",
   "execution_count": null,
   "metadata": {},
   "outputs": [],
   "source": [
    "def houghl_opt(edges,ntheta,nrho,tol):\n",
    "    \"\"\" Array*int*int*float -> Array[int] \"\"\"\n",
    "\n"
   ]
  },
  {
   "cell_type": "markdown",
   "metadata": {},
   "source": [
    "### Question 3 : Recherche des $N$ plus grands maxima locaux\n",
    "\n",
    "On cherche ici à rechercher les $N$ plus grands maxima locaux de l'accumulateur de Hough afin de déterminer quelles sont les droites détectées.\n",
    "\n",
    "1. Écrire une fonction ```maxloc_N(H,N)``` qui calcule les ``N`` maxima locaux de l'accumulateur ``H``. La fonction est similaire à celle du TME 6 (```maxloc()```) avec une différence toutefois : elle retourne une liste des coordonnées des ``N`` premiers maxima locaux **trié** par valeurs décroissantes qu'ils prennent dans ```H```. On rappelle que Python possède une fonction ```sorted()``` opérant sur les listes."
   ]
  },
  {
   "cell_type": "code",
   "execution_count": null,
   "metadata": {},
   "outputs": [],
   "source": [
    "def maxloc_N(H, N): \n",
    "    \"\"\" Array[int]*int -> list[tuple(int,int)] \"\"\"\n"
   ]
  },
  {
   "cell_type": "markdown",
   "metadata": {},
   "source": [
    "2. Tester cette fonction sur l'accumulateur calculé à la question 1 (ou 2)."
   ]
  },
  {
   "cell_type": "code",
   "execution_count": null,
   "metadata": {},
   "outputs": [],
   "source": []
  },
  {
   "cell_type": "markdown",
   "metadata": {},
   "source": [
    "3. Écrire une fonction ``hougl_intersect(l,c,H,I)`` qui calcule l'intersection de la droite de coordonnée ``(l,c)`` dans l'accumulateur ``H`` avec les bords de l'image ``I``. La fonction doit calculer les valeurs $(\\rho,\\theta)$ correspondant à ``(l,c)`` puis calculer une liste de 4 coordonnées qui correspond aux intersections de la droite  $(\\rho,\\theta)$ avec les droites $x=0$, $x=m-1$, $y=0$ et $y=m-1$ dans le plan image. La fonction ne retournera que les intersections qui sont dans le plan de l'image (normalement 2) sous forme de deux listes: la première liste donc les indices de colonne, et la seconde, les indices de ligne."
   ]
  },
  {
   "cell_type": "code",
   "execution_count": null,
   "metadata": {},
   "outputs": [],
   "source": [
    "def houghl_intersect(l,c,H,I):\n",
    "    \"\"\" int*int*Array[int]*Array -> tuple[list[int],list[int]] \"\"\"\n",
    "    "
   ]
  },
  {
   "cell_type": "markdown",
   "metadata": {},
   "source": [
    "4. Écrire une fonction ``houghl_draw(H,N,I)`` qui affiche l'image ``I`` et les ``N`` segments de droites correspondant aux $N$ premiers maxima locaux de $H$. Testez là sur l'accumulateur précédent. Si le résultat n'est pas très précis, recalculer l'accumulateur de Hough avec plus de précision."
   ]
  },
  {
   "cell_type": "code",
   "execution_count": null,
   "metadata": {},
   "outputs": [],
   "source": [
    "def  houghl_draw(H,N,I):\n",
    "    \"\"\" Array[int]*int*Array -> NoneType\"\"\"\n"
   ]
  },
  {
   "cell_type": "markdown",
   "metadata": {},
   "source": [
    "### Question 4 : Détection de lignes sur une image.\n",
    "\n",
    "On cherche maintenant à détecter les lignes dans une image quelconque à l'aide de la méthode de Hough.\n",
    "\n",
    "1. Écrire une fonction ``edges(I,s)`` qui réalise une détection de contours sur l'image ``I`` à l'aide des opérateurs de Sobel et de la fonction ``convolve2d()``. On effectuera un seuillage binaire sur la norme du gradient, le seuil sera donné par ``s``. Enfin, on utilisera la fonction ```morphology.thin()``` du module ``skimage`` qui permet de réalisé un affinage des contours. La fonction retournera la carte des contours affinés.\n",
    "\n"
   ]
  },
  {
   "cell_type": "code",
   "execution_count": null,
   "metadata": {},
   "outputs": [],
   "source": [
    "def edges(I,s):\n",
    "    \"\"\" Array*float -> Array[bool] \"\"\"\n"
   ]
  },
  {
   "cell_type": "markdown",
   "metadata": {},
   "source": [
    "2. Tester la fonction ``edges()`` sur l'image ``rectangle.png``. Afficher l'image des contours binarisée."
   ]
  },
  {
   "cell_type": "code",
   "execution_count": null,
   "metadata": {},
   "outputs": [],
   "source": []
  },
  {
   "cell_type": "markdown",
   "metadata": {},
   "source": [
    "3. Calculer et afficher l''accumulateur de Hough pour cette image. On utilisera la version optimisée du détecteur de Hough ainsi que les valeurs `ntheta`=360 et `nrho` = longueur diagonale de l'image. Commenter l'aspect de l'accumulateur."
   ]
  },
  {
   "cell_type": "code",
   "execution_count": null,
   "metadata": {},
   "outputs": [],
   "source": []
  },
  {
   "cell_type": "markdown",
   "metadata": {},
   "source": [
    "4. Afficher les coordonnées et valeurs des premiers maxima locaux. Pour obtenir un bon résultat, il faut probablement avoir une bonne précision sur les valeurs de $\\theta$ pour une tolérance faible (<1), une tolérance trop peu faible implique des détections multiples pour le même segment de droite dans l'image. Reconstruire et afficher les 4 droites détectées dans l'accumulateur."
   ]
  },
  {
   "cell_type": "code",
   "execution_count": null,
   "metadata": {},
   "outputs": [],
   "source": []
  },
  {
   "cell_type": "markdown",
   "metadata": {},
   "source": [
    "### Question 5: expérimentation\n",
    "Tester vos codes sur les images ``carrelage.png``, ``jussieu.png``, ``chaise.png``, ``table.png`` et ``house2.png``."
   ]
  },
  {
   "cell_type": "code",
   "execution_count": null,
   "metadata": {},
   "outputs": [],
   "source": [
    "images = [carrelage,jussieu,chaise,table,house]\n",
    "titres = [\"carrelage\",\"jussieu\",\"chaise\",\"table\",\"house\"]\n",
    "\n",
    "for img,titre in zip(images,titres):\n",
    "    tic()\n",
    "    print(\"Image\",titre,\"taille\",img.shape)\n",
    "    ...\n",
    "    \n",
    "    tac()\n"
   ]
  },
  {
   "cell_type": "markdown",
   "metadata": {},
   "source": [
    "## Exercice  2 : Détection de cercles (bonus)\n",
    "\n",
    "Implémentez une détection de cercles par la méthode de Hough en adaptant ce qui a été fait dans l'exercice précédent.\n",
    "\n",
    "- Vous pourrez restreindre la détection aux cercles de rayon inférieur à rayon_max et supérieur à rayon_min.\n",
    "- On limitera la détection aux cercles dont le centre est dans l'image.\n",
    "- Il est nécessaire de normaliser l'accumulateur par le périmètre du cercle pour ne pas favoriser la détection de grands cercles.\n",
    "\n",
    "\n"
   ]
  },
  {
   "cell_type": "code",
   "execution_count": null,
   "metadata": {},
   "outputs": [],
   "source": [
    "# Données\n",
    "lune = array(Image.open(\"images/Lune.png\"))\n",
    "cible = array(Image.open(\"images/cible.png\"))\n",
    "pieces = array(Image.open(\"images/pieces.png\"))\n",
    "table = array(Image.open(\"images/table.png\"))\n",
    "chaise = array(Image.open(\"images/chaise.png\"))\n",
    "velo = array(Image.open(\"images/Bicyclette_de_Lawson.png\").convert('L'))\n",
    "\n",
    "# image synthétique \n",
    "def cercle_simple():\n",
    "    \"\"\" NoneType -> Array\n",
    "    Construit l'image 200x200 d'un disque de rayon 20 centré. \n",
    "    \"\"\"\n",
    "    image_contours = zeros((200,200))\n",
    "    r = 20\n",
    "    for angle in arange(0,360)*pi/180:\n",
    "        x = int(round(r*cos(angle))) + 100\n",
    "        y = int(round(r*sin(angle))) + 100\n",
    "        image_contours[x,y] = 1\n",
    "    return image_contours\n",
    "\n",
    "\n",
    "def trace_image_et_cercles(image, liste_cercles):\n",
    "    \"\"\"\n",
    "    Array*list[tuple(int,int,int)] -> NoneType\n",
    "    Affichage supperposé d'une image et de cercles.\n",
    "    \"\"\"\n",
    "    fig, ax = subplots()\n",
    "    imshow(image, cmap=cm.gray)\n",
    "    for cercle in liste_cercles:\n",
    "        rayon = cercle[0]\n",
    "        X_c = cercle[2]\n",
    "        Y_c = cercle[1]\n",
    "        circle1 = Circle((X_c, Y_c),rayon,color='r', fill=False)\n",
    "        gcf().gca().add_artist(circle1)\n",
    "    axis('off')\n",
    "    title('Cercles détectés')\n",
    "    show()\n"
   ]
  },
  {
   "cell_type": "code",
   "execution_count": null,
   "metadata": {},
   "outputs": [],
   "source": [
    "# mise au point sur cette image\n",
    "cercle = cercle_simple()\n",
    "\n",
    "def houghc(img, r_min, r_max,tol):\n",
    "    \"\"\" Array[bool]*int*int*float -> Array \"\"\"\n",
    "                \n",
    "\n",
    "def maxloc_houghc(H,N):\n",
    "    \"\"\" Array*int -> list[tuple(int,int,int)]\"\"\"\n"
   ]
  }
 ],
 "metadata": {
  "anaconda-cloud": {},
  "kernelspec": {
   "display_name": "Python 3",
   "language": "python",
   "name": "python3"
  },
  "language_info": {
   "codemirror_mode": {
    "name": "ipython",
    "version": 3
   },
   "file_extension": ".py",
   "mimetype": "text/x-python",
   "name": "python",
   "nbconvert_exporter": "python",
   "pygments_lexer": "ipython3",
   "version": "3.8.0"
  }
 },
 "nbformat": 4,
 "nbformat_minor": 1
}
