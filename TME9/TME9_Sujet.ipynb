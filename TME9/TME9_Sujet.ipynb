{
 "cells": [
  {
   "cell_type": "markdown",
   "metadata": {},
   "source": [
    "# TME 9: Merge\n",
    "> Consignes: le fichier TME8_Sujet.ipynb est à déposer sur le site Moodle de l'UE https://moodle-sciences.upmc.fr/moodle-2019/course/view.php?id=4248. Si vous êtes en binôme, renommez-le en TME8_nom1_nom2.ipynb.\n",
    "\n",
    "N'oubliez pas de sauvegarder fréquemment votre notebook !!\n",
    "\n",
    "## Données et codes utiles au TME"
   ]
  },
  {
   "cell_type": "code",
   "execution_count": null,
   "metadata": {},
   "outputs": [],
   "source": [
    "from PIL import Image\n",
    "from pylab import *\n",
    "\n",
    "### Données\n",
    "img_test = full((64,64),150,dtype=uint8)\n",
    "img_test[32:48,16:16+32] = 100\n",
    "img_test[8:24,40:56] = 50\n",
    "angio = array(Image.open('images/angiogra.png'))\n",
    "cam = array(Image.open('images/cameraman.png'))\n",
    "muscle = array(Image.open('images/muscle.png'))\n",
    "prisme = array(Image.open('images/prisme.png'))\n",
    "seiche = array(Image.open('images/seiche.png'))\n",
    "\n",
    "### Fonction d'affichage\n",
    "def affichage_14(affichages,titres=None):\n",
    "    \"\"\" list[Array]*list[str] -> NoneType\n",
    "    Dffectue entre 1 et 4 affichages avec leurs titres, pour des images ou courbes\n",
    "    \n",
    "    Paramètres :\n",
    "      - liste des affichages (entre 1 et 4)\n",
    "      - liste des titres (entre 1 et 4, autant que de affichages), optionnelle    \n",
    "    \"\"\"\n",
    "    \n",
    "    if not type(affichages) == type([]):\n",
    "        affichages = [affichages]\n",
    "        \n",
    "    if titres is None:\n",
    "        titres = ['',]*len(affichages)\n",
    "        \n",
    "    if not type(titres) == type([]):\n",
    "        titres = [titres]\n",
    "    \n",
    "    nb_affichages = len(affichages)\n",
    "    if nb_affichages >4 or nb_affichages < 1 :\n",
    "        raise ValueError('affichage_14 nécéssite 1 à 4 entrées en paramètre')        \n",
    "        \n",
    "    if nb_affichages != len(titres):\n",
    "        raise ValueError('affichage_14 nécéssite autant de titres que d\\'affichages')\n",
    "        \n",
    "    courbes = False\n",
    "    for i in range(0,nb_affichages):\n",
    "        s = subplot(101+10*nb_affichages+i)\n",
    "        s.set_title(titres[i])\n",
    "        if len(affichages[i].shape)>=2 and affichages[i].shape[0] > 1 and affichages[i].shape[1] > 1:\n",
    "            # on affiche une image\n",
    "            s.imshow(affichages[i], cmap=\"gray\",interpolation='nearest', aspect='equal')\n",
    "        else :\n",
    "            # il s'agit d'une seule ligne, à afficher comme une courbe\n",
    "            plot(affichages[i])\n",
    "            courbes=True\n",
    "\n",
    "    agrandissement_h = nb_affichages\n",
    "    agrandissement_v = nb_affichages*2 if courbes else nb_affichages\n",
    "    params = gcf()\n",
    "    plSize = params.get_size_inches()\n",
    "    params.set_size_inches( (plSize[0]*agrandissement_v, plSize[1]*agrandissement_h) )\n",
    "    show()\n",
    "\n"
   ]
  },
  {
   "cell_type": "markdown",
   "metadata": {},
   "source": [
    "Recopier ci-dessous le code des fonctions ``split()``, ``predsplit1()`` et ``splitprof()``\n",
    "écrites au TME 8:"
   ]
  },
  {
   "cell_type": "code",
   "execution_count": null,
   "metadata": {},
   "outputs": [],
   "source": [
    "def split(I,reg,pred,*args):\n",
    "    \"\"\" Array*Bloc*(Array*Bloc*...->bool)*... -> 4-aire\n",
    "        Découpage de I en arbre 4-aire sur un critère d'écart-type minimal\n",
    "    \"\"\"\n",
    "\n",
    "def predsplit1(I,reg,*args):\n",
    "    \"\"\" Array*Bloc*... -> bool\n",
    "    \"\"\" \n",
    "\n",
    "def splitprof(L):\n",
    "    \"\"\" 4-aire -> list[Bloc]\"\"\"\n"
   ]
  },
  {
   "cell_type": "markdown",
   "metadata": {},
   "source": [
    "## Exercice 1\n",
    "### Question 1\n",
    "Modifier la fonction ``splitprof(L)`` pour en faire une fonction ``splitprofstat(L,I)`` qui rend une liste de feuilles de l'arbre 4-aire ``L`` et telle que chaque élément de cette liste, de type ``Bloc``, est enrichi de trois scalaires, le premier étant la taille, le second la moyenne et la troisième la variance des valeurs de pixels du bloc dans l'image ``I``. Cette fonction rend alors une liste dont les éléments ont pour type formel:\n",
    "```python\n",
    "type Blocstat = tuple[int**4,int,float**2]\n",
    "```\n",
    "Les quatre premières valeurs sont celles du type ``Bloc``, la cinquième est la taille du bloc (en nombre de pixels) et les deux dernières correspondent à la moyenne et la variance calculées sur la région.\n"
   ]
  },
  {
   "cell_type": "code",
   "execution_count": null,
   "metadata": {},
   "outputs": [],
   "source": [
    "# type Blocstat = tuple[int**4,int,float**2]\n",
    "\n",
    "def splitprofstats(L,I):\n",
    "    \"\"\" 4-aire*Array -> list[Blocstat] \"\"\"\n"
   ]
  },
  {
   "cell_type": "markdown",
   "metadata": {},
   "source": [
    "### Question 2\n",
    "Dans la suite du TME, on considère le type formel:\n",
    "```python\n",
    "type Region = list[Blocstat]\n",
    "```\n",
    "Une région, comme vu au TME, est donc une liste de blocs. Écrire le prédicat de fusion ``predmerge(b,R,*args)`` vu en TD. Cette fonction retourne ```True``` si le bloc ``b`` doit fusionner dans la région ``R``. Si telle est le cas, alors le premier élément de la liste ``R`` voit ses statistiques modifiées: elles décrivent celles de l'ensemble des blocs de la région ainsi fusionnée."
   ]
  },
  {
   "cell_type": "code",
   "execution_count": null,
   "metadata": {},
   "outputs": [],
   "source": [
    "def predmerge(b,R,*args):\n",
    "    \"\"\" Blocstat*Region*... -> bool \n",
    "        Si fusion, R[0] est modifié\n",
    "    \"\"\"\n"
   ]
  },
  {
   "cell_type": "markdown",
   "metadata": {},
   "source": [
    "### Question 3\n",
    "Implémenter les fonctions ```estdans()```, ```sontvoisins()```, ```voisins()``` et finalement ```merge()``` vues en TD."
   ]
  },
  {
   "cell_type": "code",
   "execution_count": null,
   "metadata": {},
   "outputs": [],
   "source": [
    "def estdans(x,y,a):\n",
    "    \"\"\" int*int*Blocstat -> bool \n",
    "        Teste si (x,y) est dans a \n",
    "    \"\"\"\n",
    "\n",
    "def sontvoisins(a,b):\n",
    "    \"\"\" Blocstat**2 -> bool\n",
    "        Teste si a et b sont voisins\n",
    "    \"\"\"\n",
    "\n",
    "def voisins(b,K):\n",
    "    \"\"\" Blocstat*list[Blocstat]->list[Blocstat]\n",
    "        retourne la liste des elements de K voisins de b\n",
    "    \"\"\"\n",
    "\n",
    "# type Region = list[Blocstat]\n",
    "\n",
    "def merge(S,I,pred,*args):\n",
    "    \"\"\" 4-aire*Array*(Blocstat*Region*...->bool) -> list[Region]\n",
    "        Fusionne les feuilles de S en une liste de régions\n",
    "    \"\"\"\n"
   ]
  },
  {
   "cell_type": "markdown",
   "metadata": {},
   "source": [
    "### Question 4\n",
    "Faire la mise au point des fonctions précédentes à l'aide de l'image ``img_test``."
   ]
  },
  {
   "cell_type": "code",
   "execution_count": null,
   "metadata": {},
   "outputs": [],
   "source": []
  },
  {
   "cell_type": "markdown",
   "metadata": {},
   "source": [
    "### Question 5\n",
    "Écrire une fonction ``regions(LR,shape)`` qui prend une liste de régions telle que rendu par la fonction ``merge()`` et rend une image des régions. Chaque région sera colorée avec le niveau de gris correspondant à la moyenne de la région. Le paramètre ``shape`` donne la taille de l'image à produire. Tester la fonction sur l'exemple précédent."
   ]
  },
  {
   "cell_type": "code",
   "execution_count": null,
   "metadata": {},
   "outputs": [],
   "source": [
    "def regions(LR,shape):\n",
    "    \"\"\" list[Region] -> Array \"\"\"\n",
    "    buf = zeros(shape,dtype=uint8)\n",
    "    for R in LR:\n",
    "        x,y,n,m,s,mu,v=R[0]\n",
    "        for b in R:\n",
    "            x,y,n,m,s,t,v=b\n",
    "            buf[x:x+n,y:y+m] = int(mu)\n",
    "    return buf\n"
   ]
  },
  {
   "cell_type": "markdown",
   "metadata": {},
   "source": [
    "## Exercice 2: expérimentation\n",
    "### Question 1:\n",
    "Tester la fonction ``merge()`` sur les images ``angio``, ``cam``, ``muscle``, ``prisme`` et ``seiche``."
   ]
  },
  {
   "cell_type": "code",
   "execution_count": null,
   "metadata": {},
   "outputs": [],
   "source": []
  },
  {
   "cell_type": "markdown",
   "metadata": {},
   "source": [
    "### Question 2 (bonus):\n",
    "Utiliser un critère de découpage alternatif, par exemple celui proposé en cours: on fusionne qui la variance de la région fusionné est plus petite que celle de la région non fusionnée. Tester sur les images."
   ]
  },
  {
   "cell_type": "code",
   "execution_count": null,
   "metadata": {},
   "outputs": [],
   "source": []
  },
  {
   "cell_type": "markdown",
   "metadata": {},
   "source": [
    "### Question 3 (bonus):\n",
    "La fusion dépend de la façon dont on visite les régions. On peut alors faire un tri des feuilles de l'arbre 4-aire, par exemple, des blocs les plus gros aux plus petits, ou le contraire (utiliser la fonction Python ``sorted()``). La même question peut se poser lorsqu'on calcule l'ensemble des voisins de la région que l'on fusionne. Faut-il les trier ? Si oui, selon quel critère ? leur taille ? leur proximité ? Evidemment il n'y a pas de réponse universelle mais adaptée à chaque type de problème. Faites quelques tests pour voir l'influence de ces tris sur le résultat de la fusion."
   ]
  },
  {
   "cell_type": "code",
   "execution_count": null,
   "metadata": {},
   "outputs": [],
   "source": []
  }
 ],
 "metadata": {
  "kernelspec": {
   "display_name": "Python 3",
   "language": "python",
   "name": "python3"
  },
  "language_info": {
   "codemirror_mode": {
    "name": "ipython",
    "version": 3
   },
   "file_extension": ".py",
   "mimetype": "text/x-python",
   "name": "python",
   "nbconvert_exporter": "python",
   "pygments_lexer": "ipython3",
   "version": "3.8.0"
  }
 },
 "nbformat": 4,
 "nbformat_minor": 2
}
