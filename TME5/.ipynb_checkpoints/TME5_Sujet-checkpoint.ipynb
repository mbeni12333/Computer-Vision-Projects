{
 "cells": [
  {
   "cell_type": "markdown",
   "metadata": {},
   "source": [
    "# TME 5 : La transformée de Fourier discrète (DFT)"
   ]
  },
  {
   "cell_type": "markdown",
   "metadata": {},
   "source": [
    "> Consignes: le fichier TME_Sujet.ipynb est à déposer sur le site Moodle de l'UE https://moodle-sciences.upmc.fr/moodle-2019/course/view.php?id=4248. Si vous êtes en binôme, renommez-le en TME5_nom1_nom2.ipynb.\n",
    "\n",
    "N'oubliez pas de sauvegarder fréquemment votre notebook !! ...\n",
    "Pour chaque questions, écrivez des commentaires brefs et concis lorsque demandé dans les cases **Commentaires**."
   ]
  },
  {
   "cell_type": "code",
   "execution_count": 1,
   "metadata": {},
   "outputs": [],
   "source": [
    "# Chargement des modules et des données utiles.\n",
    "\n",
    "from PIL import Image\n",
    "import matplotlib.pyplot as plt\n",
    "import numpy as np\n",
    "import math\n",
    "from pylab import *\n",
    "\n",
    "# charger les images et les convertir en tableau de int\n",
    "image_sinus1 = np.array(Image.open(\"images/sinus1.png\"),dtype='int32') \n",
    "image_sinus2 = np.array(Image.open(\"images/sinus2.png\"),dtype='int32')\n",
    "image_sinus3 = np.array(Image.open(\"images/sinus3.png\"),dtype='int32')\n",
    "image_sinrot = np.array(Image.open(\"images/sinrot.png\"),dtype='int32')\n",
    "image_gaussienne = np.array(Image.open(\"images/gaussienne.png\"),dtype='int32')\n",
    "image_rectangle = np.array(Image.open(\"images/rectangle.png\"),dtype='int32')\n",
    "image_rotate = np.array(Image.open(\"images/rotate.png\"),dtype='int32')\n",
    "image_texture1 = np.array(Image.open(\"images/texture1.png\"),dtype='int32')\n",
    "image_texture2 = np.array(Image.open(\"images/texture2.png\"),dtype='int32')\n",
    "image_h = np.array(Image.open(\"images/h.png\"),dtype='int32')\n",
    "image_pulse = np.array(Image.open(\"images/pulse.png\"),dtype='int32')\n",
    "image_passe_bas = np.array(Image.open(\"images/passe_bas.png\"),dtype='int32')\n",
    "image_passe_haut = np.array(Image.open(\"images/passe_haut.png\"),dtype='int32')\n",
    "image_passe_bande = np.array(Image.open(\"images/passe_bande.png\"),dtype='int32')\n",
    "\n",
    "def affichage_14(affichages,titres=None):\n",
    "    # effectue entre 1 et 4 affichages avec leurs titres, pour des images ou courbes\n",
    "    \n",
    "    # paramètres :\n",
    "    #  - liste des affichages (entre 1 et 4)\n",
    "    #  - liste des titres (entre 1 et 4, autant que de affichages) Optionnelle\n",
    "    \n",
    "    if not type(affichages) == type([]):\n",
    "        affichages = [affichages]\n",
    "        \n",
    "    if titres is None:\n",
    "        titres = ['',]*len(affichages)\n",
    "        \n",
    "    if not type(titres) == type([]):\n",
    "        titres = [titres]\n",
    "    \n",
    "    nb_affichages = len(affichages)\n",
    "    if nb_affichages >4 or nb_affichages < 1 :\n",
    "        raise ValueError('affichage_14 nécéssite 1 à 4 entrées en paramètre')        \n",
    "        \n",
    "    if nb_affichages != len(titres):\n",
    "        raise ValueError('affichage_14 nécéssite autant de titres que d\\'affichages')\n",
    "        \n",
    "    courbes = False\n",
    "    for i in range(0,nb_affichages):\n",
    "        s = plt.subplot(101+10*nb_affichages+i)\n",
    "        s.set_title(titres[i])\n",
    "        if len(affichages[i].shape)==2 and affichages[i].shape[0] > 1 and affichages[i].shape[1] > 1:\n",
    "            # on affiche une image\n",
    "            s.imshow(affichages[i], cmap=\"gray\",interpolation='nearest', aspect='equal')\n",
    "        else :\n",
    "            # il s'agit d'une seule ligne, à afficher comme une courbe\n",
    "            plt.plot(affichages[i])\n",
    "            courbes=True\n",
    "\n",
    "    agrandissement_h = nb_affichages\n",
    "    agrandissement_v = nb_affichages*2 if courbes else nb_affichages\n",
    "    params = plt.gcf()\n",
    "    plSize = params.get_size_inches()\n",
    "    params.set_size_inches( (plSize[0]*agrandissement_v, plSize[1]*agrandissement_h) )\n",
    "    plt.show()\n",
    "\n",
    "    \n",
    "def module_affichage(module):\n",
    "    # permet de transformer un module de DFT en une version jolie à afficher\n",
    "    module = np.array(module, dtype='float32')\n",
    "    ind_max = np.where(module == np.max(module.flatten()))\n",
    "    module[ind_max]=0.0\n",
    "    module[ind_max]=np.max(module.flatten())\n",
    "    module = sqrt(module)\n",
    "    return sqrt(module)"
   ]
  },
  {
   "cell_type": "markdown",
   "metadata": {},
   "source": [
    "### Exercice 1 — DFT d’une sinusoïde 2D\n",
    "\n",
    "Cet exercice est le prolongement de l’exercice 2 du TD 5. On s'intéresse ici au résultat de la transformée de Fourier discrète (rapide) des images ```sinus1.png```, ```sinus2.png``` et ```sinus3.png```.\n",
    "\n",
    "**Note** : pour afficher une série d'images et/ou de courbes (entre 1 et 4) avec un titre (optionnel), utilisez la fonction ```affichage_14()```. Spécifiez à cette fonction une liste d'images (tableau numpy 2D) et/ou de courbes (tableau numpy 1D) et la liste (optionnelle) correspondante des titres à afficher comme ci-dessous :"
   ]
  },
  {
   "cell_type": "code",
   "execution_count": 2,
   "metadata": {},
   "outputs": [
    {
     "data": {
      "image/png": "[encoded data removed]",
      "text/plain": [
       "<Figure size 1296x864 with 3 Axes>"
      ]
     },
     "metadata": {
      "needs_background": "light"
     },
     "output_type": "display_data"
    }
   ],
   "source": [
    "affichage_14([image_sinus1,image_sinus2,image_sinus3],['sinus1','sinus2','sinus3'])"
   ]
  },
  {
   "cell_type": "markdown",
   "metadata": {},
   "source": [
    "### Question 1\n",
    "\n",
    "Calcul de la DFT de l'image ```sinus1.png``` sous la forme module/phase.\n",
    "\n",
    "1. Caculez la DFT non centrée de sinus1.png avec la fonction ```fft2()```\n",
    "2. Visualisez les parties réelle et imaginaire de la DFT non centrées avec les fonctions ```real()``` et ```imag()``` \n",
    "3. Centrez la DFT avec ```fftshift()``` et visualiser le module et la phase de la DFT centrée avec les fonctions ```abs()``` et ```arctan2()```\n",
    "\n",
    "\n",
    "**Note:** Par la suite utilisez la fonction ```module_affichage()``` pour une meilleure visualisation des modules (uniquement). Cette fonction prend un module de DFT centrée et retourne une version du module qui s'affiche mieux. En effet sinon les valeurs hautes du modules rendent invisibles les valeurs faibles sur l'image\n"
   ]
  },
  {
   "cell_type": "markdown",
   "metadata": {},
   "source": [
    "### **Commentaires :**\n",
    "(voir https://rmarkdown.rstudio.com/authoring_basics.html pour un rapide résumé du langage Markdown)"
   ]
  },
  {
   "cell_type": "markdown",
   "metadata": {},
   "source": [
    "Vos commentaires ici, ***Markdown*** et formules LaTeX possibles : $z=x+iy$, ...\n",
    "\n"
   ]
  },
  {
   "cell_type": "code",
   "execution_count": 3,
   "metadata": {
    "scrolled": true
   },
   "outputs": [
    {
     "ename": "SyntaxError",
     "evalue": "invalid syntax (<ipython-input-3-d8c30edf33fa>, line 6)",
     "output_type": "error",
     "traceback": [
      "\u001b[0;36m  File \u001b[0;32m\"<ipython-input-3-d8c30edf33fa>\"\u001b[0;36m, line \u001b[0;32m6\u001b[0m\n\u001b[0;31m    imag_sinus1 = #votre_code\u001b[0m\n\u001b[0m                             ^\u001b[0m\n\u001b[0;31mSyntaxError\u001b[0m\u001b[0;31m:\u001b[0m invalid syntax\n"
     ]
    }
   ],
   "source": [
    "# DFT sinus1\n",
    "fft2_sinus1 = np.fft.fft2(image_sinus1)\n",
    "\n",
    "# partie réelle et imaginaire \n",
    "real_sinus1 = np.real(fft2_sinus1)\n",
    "imag_sinus1 = np.imag(fft2_sinus1)\n",
    "\n",
    "# module et phase\n",
    "fft2_sinus1_c = #votre_code\n",
    "module_sinus1 = #votre_code\n",
    "phase_sinus1 = #votre_code\n",
    "\n",
    "# visualisation\n",
    "affichage_14([real_sinus1[0:2,0:20],real_sinus1[0:2,0:20]],['partie réelle','partie imaginaire'])\n",
    "# affichage_14([module_affichage(module_sinus1),phase_sinus1],['module DFT centrée','Phase DFT centrée'])\n",
    "\n"
   ]
  },
  {
   "cell_type": "markdown",
   "metadata": {},
   "source": [
    "\n",
    "### Question 2 :\n",
    "\n",
    "On va s'intéresser au module de la DFT centrée. **Note:** N'oubliez pas de toujours utiliser ```module_affichage(image_module)``` pour afficher les images modules à l'écran avec la fonction ```affichage_14()```.\n",
    "\n",
    "1. Codez une fonction ```module_fft_c()``` qui renvoie le module de la DFT centrée d'une image.\n",
    "2. Remarquez l'emplacement des coefficients non nuls dans l'image du module de la DFT centrée de sinus1.png. Où sont-ils situés ?  Extrayez ces coefficient et tracez les avec la fonction ```affichage_14()```. **Note :** Vous pouvez extraires les coefficients en prenant la ligne correspondante dans l'image de module ou bien en prenant simplement les coefficients non nuls de l'image avec ```coeffs = image[image>0]```\n",
    "3. Répétez ces opérations sur les images sinus2.png et sinus3.png : affichez les images des modules et tracez les coefficients non nuls"
   ]
  },
  {
   "cell_type": "code",
   "execution_count": null,
   "metadata": {},
   "outputs": [],
   "source": [
    "def module_fft_c(image):\n",
    "    return #votre_code\n",
    "\n",
    "module_sinus2 = module_fft_c(image_sinus2)\n",
    "module_sinus3 = module_fft_c(image_sinus3)\n",
    "\n",
    "affichage_14( [module_affichage(module_sinus2),module_affichage(module_sinus3)], ['module sinus2','module sinus3'])\n",
    "# affichage_14( [ #votre_code , #votre_code], ['profil module sinus2','profil module sinus3'])"
   ]
  },
  {
   "cell_type": "markdown",
   "metadata": {},
   "source": [
    "## Exercice 2 : Quelques DFT d’images simples\n",
    "\n",
    "1. **DFT d'une sinusoïde diagonale:** Affichez l'image `sinrot.png` ainsi que le module de sa DFT centrée et commentez.\n",
    "\n",
    "2. **DFT d'une gaussienne:** Affichez l'image `gaussienne.png` à côté du module de sa DFT centrée.  \n",
    "Puis choisissez la ligne ou la colonne du milieu dans les deux images et comparez leurs profils. Commentez."
   ]
  },
  {
   "cell_type": "code",
   "execution_count": null,
   "metadata": {},
   "outputs": [],
   "source": [
    "# Code à compléter\n",
    "\n",
    "module_fft_sinrot = module_fft_c(image_sinrot)\n",
    "affichage_14( [image_sinrot, module_affichage(module_fft_sinrot)], ['image sinrot', 'module DFT centrée sinrot'])\n",
    "\n",
    "module_fft_gaussienne = module_fft_c(image_gaussienne)\n",
    "affichage_14( [image_gaussienne, module_affichage(module_fft_gaussienne)], ['image gaussienne', 'module DFT centrée gaussienne'])\n",
    "\n",
    "#n = int(module_fft_gaussienne.shape[0]/2)\n",
    "#affichage_14( [#votre_code, #votre_code], ['spectre horizontal DFT gaussienne', 'spectre horizontale gaussienne'])"
   ]
  },
  {
   "cell_type": "markdown",
   "metadata": {},
   "source": [
    "### Commentaires:"
   ]
  },
  {
   "cell_type": "markdown",
   "metadata": {},
   "source": []
  },
  {
   "cell_type": "markdown",
   "metadata": {},
   "source": [
    "## Exercice 3 : Propriétés de la DFT\n",
    "\n",
    "Cet exercice se propose de mettre en avant certaines propriétés de la DFT :\n",
    "\n",
    "1. Observer et interprétez le module de la DFT centrée de l’image rectangle.png. On tracera le profil de niveaux de gris sur la ligne 65.\n",
    "2. Observez et interprétez le module de la DFT centrée de l’image rotate.png. Cette image correspond à la précédente, après rotation de 30 degrés.\n",
    "3. Effectuez la somme des deux images précédentes en utilisant la fonction ```somme_images()```. Observez et interprétez le module de la DFT centrée de l’image résultat.\n"
   ]
  },
  {
   "cell_type": "code",
   "execution_count": null,
   "metadata": {},
   "outputs": [],
   "source": [
    "# code à compléter\n",
    "\n",
    "def somme_images(img1,img2):\n",
    "    # convert to float\n",
    "    img1 = np.array(img1, dtype='float32')\n",
    "    img2 = np.array(img2, dtype='float32')\n",
    "    # rescale :\n",
    "    img1 /= np.sum(img1)\n",
    "    img2 /= np.sum(img2)\n",
    "    return img1 + img2\n",
    "\n",
    "module_fft_rectangle = module_fft_c(image_rectangle)\n",
    "# affichage_14( [image_rectangle, module_affichage(module_fft_rectangle),#votre_code], ['image rectangle', 'module DFT centrée rectangle','spectre ligne 65 DFT rectangle'])\n",
    "\n",
    "module_fft_rotate = module_fft_c(image_rotate)\n",
    "affichage_14( [image_rotate, module_affichage(module_fft_rotate)], ['image rotate', 'module DFT centrée rotate'])\n",
    "\n",
    "image_somme = #votre_code\n",
    "module_fft_somme = module_fft_c(image_somme)\n",
    "affichage_14( [image_somme, module_affichage(module_fft_somme)], ['image somme', 'module DFT centrée somme'])"
   ]
  },
  {
   "cell_type": "markdown",
   "metadata": {},
   "source": [
    "### **Commentaires :**"
   ]
  },
  {
   "cell_type": "markdown",
   "metadata": {},
   "source": []
  },
  {
   "cell_type": "markdown",
   "metadata": {},
   "source": [
    "## Exercice 4 : Compréhension de spectres\n",
    "\n",
    "Affichez les images ```texture1.png```, ```texture2.png```, ```h.png``` et leurs DFT. Commentez les DFT."
   ]
  },
  {
   "cell_type": "code",
   "execution_count": null,
   "metadata": {},
   "outputs": [],
   "source": [
    "affichage_14( [image_texture1, image_texture2, image_h], ['image texture1', 'image texture2','image h'])\n",
    "module_fft_texture1 = module_fft_c(image_texture1)\n",
    "module_fft_texture2 = module_fft_c(image_texture2)\n",
    "module_fft_h = module_fft_c(image_h)\n",
    "affichage_14( [module_affichage(module_fft_texture1), module_affichage(module_fft_texture2), module_affichage(module_fft_h)], ['module fft texture1', 'module fft texture2','module fft h'])"
   ]
  },
  {
   "cell_type": "markdown",
   "metadata": {},
   "source": [
    "### **Commentaires :**"
   ]
  },
  {
   "cell_type": "markdown",
   "metadata": {},
   "source": []
  },
  {
   "cell_type": "markdown",
   "metadata": {},
   "source": [
    "## Exercice 5 : Filtrage dans le domaine fréquentiel\n",
    "\n",
    "\n",
    "1. Observez l’image ```pulse.png```. À quel signal (bidimensionnel) correspond-elle ? Observez le spectre de sa DFT centrée. Interprétez le résultat.\n",
    "2. Observez l’image ```passe_bas.png```. Cette image correspond en fait a la réponse fréquentielle d’un filtre passe-bas idéal ```PB```. À quoi le voit-on ? Tracez ce profil et celui de la DFT (même colonne) précédente.\n",
    "3. Soit ```A = image_pulse```. Calculez $DFT(A) \\times PB$ et interpréter le résultat obtenu en affichant le module de cette image.\n",
    "4. Calculez la DFT inverse (fonction ```ifft2()```) en utilisant l'image  $DFT(A) \\times PB$  afin d’obtenir l’image reconstruite ```A′```. Visualisez et interprétez le module de cette image ainsi que la courbe de profil obtenue à partir d'une de ses lignes. Commentez.\n",
    "5. Effectuer les étapes 1, 2 et 3 avec les filtres suivants : ```passe_haut.png``` et ```passe_bande.png```, respectivement les réponses fréquentielle d’un filtre passe-haut ```PH``` et d’un filtre passe-bande ```PB```."
   ]
  },
  {
   "cell_type": "code",
   "execution_count": null,
   "metadata": {},
   "outputs": [],
   "source": [
    "# code à compléter\n",
    "\n",
    "module_fft_pulse = module_fft_c(image_pulse)\n",
    "affichage_14( [image_pulse, module_affichage(module_fft_pulse), module_fft_pulse[module_fft_pulse>0]], ['image pulse', 'image module DFT pulse', 'spectre pulse'])\n",
    "\n",
    "# passe bas\n",
    "affichage_14(#votre_code, #votre_code, #votre_code],['profil image passe bas','spectre pulse','image passe bas'])\n",
    "\n",
    "#votre_code\n",
    "affichage_14([module_affichage(#votre_code), #votre_code, #votre_code],['module pulse x passe bas', 'DFT pulse x PB', 'profil DFT pulse x PB'])\n",
    "\n",
    "    \n",
    "# passe haut\n",
    "affichage_14([#votre_code, #votre_code, #votre_code],['profil image passe haut','spectre pulse','image passe haut'])\n",
    "\n",
    "#votre_code\n",
    "affichage_14([module_affichage(#votre_code), #votre_code, #votre_code],['module pulse x passe haut', 'DFT pulse x PH', 'profil DFT pulse x PH'])\n",
    "\n",
    "\n",
    "# passe bande\n",
    "affichage_14([#votre_code, #votre_code, #votre_code],['profil image passe bande','spectre pulse','image passe bande'])\n",
    "\n",
    "#votre_code\n",
    "affichage_14([module_affichage(#votre_code), #votre_code, #votre_code],['module pulse x passe bande', 'DFT pulse x PB', 'profil DFT pulse x PB'])\n",
    "\n"
   ]
  },
  {
   "cell_type": "markdown",
   "metadata": {},
   "source": [
    "### **Commentaires :**"
   ]
  },
  {
   "cell_type": "markdown",
   "metadata": {},
   "source": []
  }
 ],
 "metadata": {
  "anaconda-cloud": {},
  "kernelspec": {
   "display_name": "Python 3",
   "language": "python",
   "name": "python3"
  },
  "language_info": {
   "codemirror_mode": {
    "name": "ipython",
    "version": 3
   },
   "file_extension": ".py",
   "mimetype": "text/x-python",
   "name": "python",
   "nbconvert_exporter": "python",
   "pygments_lexer": "ipython3",
   "version": "3.7.5"
  }
 },
 "nbformat": 4,
 "nbformat_minor": 4
}
