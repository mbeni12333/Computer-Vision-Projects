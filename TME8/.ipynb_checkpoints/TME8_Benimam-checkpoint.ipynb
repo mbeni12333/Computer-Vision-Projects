{
 "cells": [
  {
   "cell_type": "markdown",
   "metadata": {},
   "source": [
    "# TME 8: Split\n",
    "> Consignes: le fichier TME8_Sujet.ipynb est à déposer sur le site Moodle de l'UE https://moodle-sciences.upmc.fr/moodle-2019/course/view.php?id=4248. Si vous êtes en binôme, renommez-le en TME8_nom1_nom2.ipynb.\n",
    "\n",
    "N'oubliez pas de sauvegarder fréquemment votre notebook !! \n"
   ]
  },
  {
   "cell_type": "code",
   "execution_count": 1,
   "metadata": {},
   "outputs": [],
   "source": [
    "from PIL import Image\n",
    "from pylab import *\n",
    "\n",
    "### Données\n",
    "img_test = full((64,64),150,dtype=uint8)\n",
    "img_test[32:48,16:16+32] = 100\n",
    "img_test[8:24,40:56] = 50\n",
    "angio = array(Image.open('images/angiogra.png'))\n",
    "cam = array(Image.open('images/cameraman.png'))\n",
    "muscle = array(Image.open('images/muscle.png'))\n",
    "prisme = array(Image.open('images/prisme.png'))\n",
    "seiche = array(Image.open('images/seiche.png'))\n",
    "\n",
    "### Fonction d'affichage\n",
    "def affichage_14(affichages,titres=None):\n",
    "    \"\"\" list[Array]*list[str] -> NoneType\n",
    "    Dffectue entre 1 et 4 affichages avec leurs titres, pour des images ou courbes\n",
    "    \n",
    "    Paramètres :\n",
    "      - liste des affichages (entre 1 et 4)\n",
    "      - liste des titres (entre 1 et 4, autant que de affichages), optionnelle    \n",
    "    \"\"\"\n",
    "    \n",
    "    if not type(affichages) == type([]):\n",
    "        affichages = [affichages]\n",
    "        \n",
    "    if titres is None:\n",
    "        titres = ['',]*len(affichages)\n",
    "        \n",
    "    if not type(titres) == type([]):\n",
    "        titres = [titres]\n",
    "    \n",
    "    nb_affichages = len(affichages)\n",
    "    if nb_affichages >4 or nb_affichages < 1 :\n",
    "        raise ValueError('affichage_14 nécéssite 1 à 4 entrées en paramètre')        \n",
    "        \n",
    "    if nb_affichages != len(titres):\n",
    "        raise ValueError('affichage_14 nécéssite autant de titres que d\\'affichages')\n",
    "        \n",
    "    courbes = False\n",
    "    for i in range(0,nb_affichages):\n",
    "        s = subplot(101+10*nb_affichages+i)\n",
    "        s.set_title(titres[i])\n",
    "        if len(affichages[i].shape)>=2 and affichages[i].shape[0] > 1 and affichages[i].shape[1] > 1:\n",
    "            # on affiche une image\n",
    "            s.imshow(affichages[i], cmap=\"gray\",interpolation='nearest', aspect='equal')\n",
    "        else :\n",
    "            # il s'agit d'une seule ligne, à afficher comme une courbe\n",
    "            plot(affichages[i])\n",
    "            courbes=True\n",
    "\n",
    "    agrandissement_h = nb_affichages\n",
    "    agrandissement_v = nb_affichages*2 if courbes else nb_affichages\n",
    "    params = gcf()\n",
    "    plSize = params.get_size_inches()\n",
    "    params.set_size_inches( (plSize[0]*agrandissement_v, plSize[1]*agrandissement_h) )\n",
    "    show()\n",
    "\n"
   ]
  },
  {
   "cell_type": "markdown",
   "metadata": {},
   "source": [
    "## Exercice 1\n",
    "\n",
    "Question 1: \n",
    "Écrire la fonction récursive ``split()`` vue en TD. Elle prend en entrée l'image, une région, un prédicat, et un nombre variable d'arguments. La région est de type formel Python ```Bloc``` défini par :\n",
    "```python\n",
    "type Bloc = tuple[int**4]\n",
    "```\n",
    "La fonction ``split()`` retourne un arbre 4-aire de type formel Python, défini récursivement par:\n",
    "```python\n",
    "type 4-aire = list[(4-aire**4|Bloc)] \n",
    "```\n",
    "Le prédicat est une fonction Python de signature:\n",
    "```python\n",
    "Array*Bloc*...->bool\n",
    "```\n",
    "Elle peut prendre un nombre variable de paramètres qui correspond aux paramètres du prédicat.\n"
   ]
  },
  {
   "cell_type": "code",
   "execution_count": 69,
   "metadata": {},
   "outputs": [],
   "source": [
    "def split(I,reg,pred,*args):\n",
    "    \"\"\" Array*Bloc*(Array*Bloc*...->bool)*... -> 4-aire\n",
    "        Découpage de I en arbre 4-aire sur un critère d'écart-type minimal\n",
    "    \"\"\"\n",
    "    x, y, width, height = reg\n",
    "    \n",
    "    if(pred(I, reg, *args) and width > 2 and height > 2):\n",
    "\n",
    "        \n",
    "        width_child, height_child = width//2, height//2\n",
    "                \n",
    "\n",
    "        # Nord ouest\n",
    "        NO = split(I, (x, y, width_child, height_child), pred, *args)\n",
    "        # Nord est\n",
    "        NE = split(I, (x + width_child, y, width_child, height_child), pred, *args)\n",
    "        # Sud Ouest\n",
    "        SO = split(I, (x, y+height_child, width_child, height_child), pred, *args)\n",
    "        # Sud Est\n",
    "        SE = split(I, (x + width_child, y + height_child, width_child, height_child), pred, *args)\n",
    "        \n",
    "        \n",
    "        return [NO, NE, SO, SE]\n",
    "\n",
    "    return [reg]\n",
    "        "
   ]
  },
  {
   "cell_type": "markdown",
   "metadata": {},
   "source": [
    "Question 2:\n",
    "Écrire la fonction ```predsplit1(I,B,*args)``` de signature :\n",
    "```python\n",
    "Array*Bloc*... -> bool\n",
    "```\n",
    "qui retourne True si l'écart-type de l'image ``I`` calculé sur la région ``B`` est plus grand que la valeur du premier argument de ``*args`` (on y accède simplement par ``*args[0]``)."
   ]
  },
  {
   "cell_type": "code",
   "execution_count": 70,
   "metadata": {},
   "outputs": [],
   "source": [
    "def predsplit1(I,reg,*args):\n",
    "    \"\"\" Array*Bloc*... -> bool\n",
    "    \"\"\" \n",
    "    x, y, width, height = reg\n",
    "    \n",
    "#     print(\"x = \", x, \"y = \", y)\n",
    "    # variation supereir a un threshhold\n",
    "    return I[y:y+height, x:x+width].std() > args[0]\n",
    "    "
   ]
  },
  {
   "cell_type": "markdown",
   "metadata": {},
   "source": [
    "Question 3: Écrire la fonction ``splitprof(L)`` qui réaliste un parcours (récursif) en profondeur de l'arbre 4-aire passé en paramètre. La fonction retourne la liste des feuilles de ``L``, soit une liste de bloc."
   ]
  },
  {
   "cell_type": "code",
   "execution_count": 77,
   "metadata": {},
   "outputs": [],
   "source": [
    "def splitprof(L):\n",
    "    \"\"\" 4-aire -> list[Bloc]\"\"\"\n",
    "    \n",
    "    if(len(L) == 1):\n",
    "        x, y, width, height = L[0]\n",
    "        print(\"hoein\")\n",
    "        return L\n",
    "\n",
    "    childs = []\n",
    "    for i in range(4):\n",
    "        #print(\"L is = \", L[i])\n",
    "        childs += splitprof(L[i])\n",
    "        \n",
    "    return childs"
   ]
  },
  {
   "cell_type": "markdown",
   "metadata": {},
   "source": [
    "Question 4: Tester vos codes sur l'image test ``img_test`` vue en TD. Imprimer la valeur retournée par ``split()`` ainsi que celle retournée par ``profsplit()``. "
   ]
  },
  {
   "cell_type": "code",
   "execution_count": 79,
   "metadata": {},
   "outputs": [
    {
     "name": "stdout",
     "output_type": "stream",
     "text": [
      "L is =  [(0, 0, 32, 32)]\n",
      "hoein\n",
      "L is =  [[[(32, 0, 8, 8)], [(40, 0, 8, 8)], [(32, 8, 8, 8)], [(40, 8, 8, 8)]], [[(48, 0, 8, 8)], [(56, 0, 8, 8)], [(48, 8, 8, 8)], [(56, 8, 8, 8)]], [[(32, 16, 8, 8)], [(40, 16, 8, 8)], [(32, 24, 8, 8)], [(40, 24, 8, 8)]], [[(48, 16, 8, 8)], [(56, 16, 8, 8)], [(48, 24, 8, 8)], [(56, 24, 8, 8)]]]\n",
      "L is =  [[(32, 0, 8, 8)], [(40, 0, 8, 8)], [(32, 8, 8, 8)], [(40, 8, 8, 8)]]\n",
      "L is =  [(32, 0, 8, 8)]\n",
      "hoein\n",
      "L is =  [(40, 0, 8, 8)]\n",
      "hoein\n",
      "L is =  [(32, 8, 8, 8)]\n",
      "hoein\n",
      "L is =  [(40, 8, 8, 8)]\n",
      "hoein\n",
      "L is =  [[(48, 0, 8, 8)], [(56, 0, 8, 8)], [(48, 8, 8, 8)], [(56, 8, 8, 8)]]\n",
      "L is =  [(48, 0, 8, 8)]\n",
      "hoein\n",
      "L is =  [(56, 0, 8, 8)]\n",
      "hoein\n",
      "L is =  [(48, 8, 8, 8)]\n",
      "hoein\n",
      "L is =  [(56, 8, 8, 8)]\n",
      "hoein\n",
      "L is =  [[(32, 16, 8, 8)], [(40, 16, 8, 8)], [(32, 24, 8, 8)], [(40, 24, 8, 8)]]\n",
      "L is =  [(32, 16, 8, 8)]\n",
      "hoein\n",
      "L is =  [(40, 16, 8, 8)]\n",
      "hoein\n",
      "L is =  [(32, 24, 8, 8)]\n",
      "hoein\n",
      "L is =  [(40, 24, 8, 8)]\n",
      "hoein\n",
      "L is =  [[(48, 16, 8, 8)], [(56, 16, 8, 8)], [(48, 24, 8, 8)], [(56, 24, 8, 8)]]\n",
      "L is =  [(48, 16, 8, 8)]\n",
      "hoein\n",
      "L is =  [(56, 16, 8, 8)]\n",
      "hoein\n",
      "L is =  [(48, 24, 8, 8)]\n",
      "hoein\n",
      "L is =  [(56, 24, 8, 8)]\n",
      "hoein\n",
      "L is =  [[(0, 32, 16, 16)], [(16, 32, 16, 16)], [(0, 48, 16, 16)], [(16, 48, 16, 16)]]\n",
      "L is =  [(0, 32, 16, 16)]\n",
      "hoein\n",
      "L is =  [(16, 32, 16, 16)]\n",
      "hoein\n",
      "L is =  [(0, 48, 16, 16)]\n",
      "hoein\n",
      "L is =  [(16, 48, 16, 16)]\n",
      "hoein\n",
      "L is =  [[(32, 32, 16, 16)], [(48, 32, 16, 16)], [(32, 48, 16, 16)], [(48, 48, 16, 16)]]\n",
      "L is =  [(32, 32, 16, 16)]\n",
      "hoein\n",
      "L is =  [(48, 32, 16, 16)]\n",
      "hoein\n",
      "L is =  [(32, 48, 16, 16)]\n",
      "hoein\n",
      "L is =  [(48, 48, 16, 16)]\n",
      "hoein\n"
     ]
    },
    {
     "data": {
      "image/png": "[encoded data removed]",
      "text/plain": [
       "<Figure size 432x288 with 1 Axes>"
      ]
     },
     "metadata": {
      "needs_background": "light"
     },
     "output_type": "display_data"
    },
    {
     "name": "stdout",
     "output_type": "stream",
     "text": [
      "[\n",
      "[(0, 0, 32, 32)]\n",
      "[[[(32, 0, 8, 8)], [(40, 0, 8, 8)], [(32, 8, 8, 8)], [(40, 8, 8, 8)]], [[(48, 0, 8, 8)], [(56, 0, 8, 8)], [(48, 8, 8, 8)], [(56, 8, 8, 8)]], [[(32, 16, 8, 8)], [(40, 16, 8, 8)], [(32, 24, 8, 8)], [(40, 24, 8, 8)]], [[(48, 16, 8, 8)], [(56, 16, 8, 8)], [(48, 24, 8, 8)], [(56, 24, 8, 8)]]]\n",
      "[[(0, 32, 16, 16)], [(16, 32, 16, 16)], [(0, 48, 16, 16)], [(16, 48, 16, 16)]]\n",
      "[[(32, 32, 16, 16)], [(48, 32, 16, 16)], [(32, 48, 16, 16)], [(48, 48, 16, 16)]]\n",
      "]\n",
      "\n",
      "Feuilles :  [(0, 0, 32, 32), (32, 0, 8, 8), (40, 0, 8, 8), (32, 8, 8, 8), (40, 8, 8, 8), (48, 0, 8, 8), (56, 0, 8, 8), (48, 8, 8, 8), (56, 8, 8, 8), (32, 16, 8, 8), (40, 16, 8, 8), (32, 24, 8, 8), (40, 24, 8, 8), (48, 16, 8, 8), (56, 16, 8, 8), (48, 24, 8, 8), (56, 24, 8, 8), (0, 32, 16, 16), (16, 32, 16, 16), (0, 48, 16, 16), (16, 48, 16, 16), (32, 32, 16, 16), (48, 32, 16, 16), (32, 48, 16, 16), (48, 48, 16, 16)]\n"
     ]
    }
   ],
   "source": [
    "split_test = split(img_test, (0, 0, img_test.shape[1], img_test.shape[0]), predsplit1, 0.)\n",
    "split_prof_test = splitprof(split_test)\n",
    "\n",
    "plt.imshow(img_test, cmap=\"gray\")\n",
    "plt.show()\n",
    "print(\"[\")\n",
    "for i in split_test:\n",
    "    print(\"\\t\", i)\n",
    "print(\"]\")\n",
    "print(\"\")\n",
    "print(\"Feuilles : \", split_prof_test)"
   ]
  },
  {
   "cell_type": "markdown",
   "metadata": {},
   "source": [
    "Question 4: Écrire la fonction ```splitdraw(L,I)``` qui prend en paramètre une liste de bloc et une image et retourne une image dont les bords de chaque éléments de ``L`` ont été dessiné en rouge. Indication: l'image retournée est une hypermatrice de dimension 3, la troisième dimension a une taille de 3 et correspond aux composantes rouge, verte et bleue d'une image RGB. Tester son bon fonctionnement sur l'exemple précédent.\n"
   ]
  },
  {
   "cell_type": "code",
   "execution_count": 34,
   "metadata": {},
   "outputs": [
    {
     "data": {
      "image/png": "[encoded data removed]",
      "text/plain": [
       "<Figure size 432x288 with 1 Axes>"
      ]
     },
     "metadata": {
      "needs_background": "light"
     },
     "output_type": "display_data"
    }
   ],
   "source": [
    "def splitdraw(LL,I):\n",
    "    \"\"\" list[Bloc]*Array -> Array\n",
    "        parcours de la liste dessin des régions \n",
    "    \"\"\"\n",
    "    I_copy = np.zeros_like(LL)\n",
    "    \n",
    "    for reg in LL:\n",
    "        \n",
    "        x, y, width, height = reg\n",
    "        \n",
    "        I_copy[y:y+height, x:w+width, 0] = I[y:y+height, x:x+width, 0].mean()\n",
    "        I_copy[y:y+height, x:w+width, 1] = I[y:y+height, x:x+width, 1].mean()\n",
    "        I_copy[y:y+height, x:w+width, 2] = I[y:y+height, x:x+width, 2].mean()\n",
    "        \n",
    "        if(y != 0):\n",
    "        #horizontal\n",
    "            I_copy[y, x:x+width, 0] = 255\n",
    "            I_copy[y, x:x+width, 1] = 0\n",
    "            I_copy[y, x:x+width, 2] = 0\n",
    "        \n",
    "        if(x != 0):\n",
    "        #verticla\n",
    "            I_copy[y:y+height, x, 0] = 255\n",
    "            I_copy[y:y+height, x, 1] = 0\n",
    "            I_copy[y:y+height, x, 2] = 0\n",
    "        \n",
    "        \n",
    "# exemple image RGB et dessin d'une ligne rouge.\n",
    "RGB = zeros((64,64,3))\n",
    "RGB[:,:,0] = img_test\n",
    "RGB[:,:,1] = img_test\n",
    "RGB[:,:,2] = img_test\n",
    "RGB[31,:,0] = 255\n",
    "RGB[31,:,1] = 0\n",
    "RGB[31,:,2] = 0\n",
    "\n",
    "\n",
    "#affichage_14([RGB/255],['titre'])\n",
    "imshow(RGB/255)\n",
    "show()\n",
    "    \n",
    "    "
   ]
  },
  {
   "cell_type": "markdown",
   "metadata": {},
   "source": [
    "Question 5: Ajouter un bruit gaussien sur l'image ``img_test`` d'écart-type 5. Recalculer un découpage 4-aire sur l'image bruitée en ajustant le seuil de façon à obtenir le même résultat que dans la question précédente. Quelle valeur de seuil a-t-il fallut choisir ? Cela vous semble-t-il cohérent ?\n",
    "\n",
    "Indication: utiliser la fonction Numpy ``random.randn()`` qui génère des valeurs aléatoires tirées selon une loi normale (loi gaussienne de moyenne nulle et de variance 1). Pour obtenir des réalisations d'une gaussienne d'écart type $\\sigma$, il suffit de faire des tirages d'une loi normale, multipliés par $\\sigma$. "
   ]
  },
  {
   "cell_type": "code",
   "execution_count": null,
   "metadata": {},
   "outputs": [],
   "source": [
    "from numpy import random\n",
    "\n"
   ]
  },
  {
   "cell_type": "markdown",
   "metadata": {},
   "source": [
    "# Exercice 2\n",
    "Question 1:\n",
    "Expérimenter l'algorithme de split sur les 5 images naturelles fournies. Pour chaque image essayer de trouver le seuil qui vous semble visuellement le meilleur. Afficher le nombre de bloc obtenus après découpage."
   ]
  },
  {
   "cell_type": "code",
   "execution_count": null,
   "metadata": {},
   "outputs": [],
   "source": []
  },
  {
   "cell_type": "markdown",
   "metadata": {},
   "source": [
    "Question 2 (bonus): proposer un critère de découpage alternatif. Par exemple, un critère basé sur des contours ou un autre. Le critère peut être adapté à chaque type d'image.\n"
   ]
  },
  {
   "cell_type": "code",
   "execution_count": null,
   "metadata": {},
   "outputs": [],
   "source": []
  }
 ],
 "metadata": {
  "kernelspec": {
   "display_name": "Python 3",
   "language": "python",
   "name": "python3"
  },
  "language_info": {
   "codemirror_mode": {
    "name": "ipython",
    "version": 3
   },
   "file_extension": ".py",
   "mimetype": "text/x-python",
   "name": "python",
   "nbconvert_exporter": "python",
   "pygments_lexer": "ipython3",
   "version": "3.7.5"
  }
 },
 "nbformat": 4,
 "nbformat_minor": 4
}
