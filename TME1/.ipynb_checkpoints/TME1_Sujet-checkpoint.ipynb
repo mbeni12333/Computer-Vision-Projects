{
 "cells": [
  {
   "cell_type": "markdown",
   "metadata": {},
   "source": [
    "# TME1 : premier pas en traitement d'image avec Python et Jupyter\n",
    "\n",
    "> Consignes: le fichier **TME1_Sujet.ipynb** est à déposer sur le site Moodle de l'UE https://moodle-sciences.upmc.fr/moodle-2019/course/view.php?id=4248. Si vous êtes en binôme, renommez-le en **TME1_nom1_nom2.ipynb**.\n",
    "\n",
    "Pour ce premier TME, qui consiste à réaliser des opérations de base de traitement d'image, nous utiliserons uniquement le language Python natif, sans module particulier et cela pour bien comprendre ce qu'est une image sur le disque et sa représentation en mémoire, une liste de valeurs, organisée en lignes de pixels.\n",
    "\n",
    "Les deux fonctions suivantes permettent respectivement de lire et d'écrire sur le disque des images au format Portable Grey Map (PGM). Elle utilise le type formel <tt>Image</tt> qui est <tt>tuple[list[int],int,int]</tt>, selon les conventions du cours 1I001. Le premier élément est la liste des pixels de l'image, ordonnée ligne par ligne, le second élément est la longueur d'une ligne (soit le nombre de pixels dans une ligne), et le troisième le nombre de lignes.\n"
   ]
  },
  {
   "cell_type": "code",
   "execution_count": 1,
   "metadata": {},
   "outputs": [],
   "source": [
    "def readPGM(file):\n",
    "    \"\"\"  str -> tuple[list[int],int,int] | NoneType\n",
    "    Lit un fichier PGM et retourne la liste des valeurs de \n",
    "    l'image et ses dimensions (nombre de colonnes, nombre de lignes).\n",
    "    \"\"\"\n",
    "    fp = open(file,'rb')\n",
    "    # en mode binaire, readline() retourne un type 'bytes'\n",
    "    if fp.readline() == b'P5\\n':\n",
    "        while True:\n",
    "            # lecture d'une ligne, conversion vers str\n",
    "            line = fp.readline().decode()\n",
    "            if line[0] != '#': break\n",
    "        # découpage en mots, puis conversion        \n",
    "        w,h=line.split()\n",
    "        w,h=int(w),int(h)\n",
    "        # Nb de niveaux de gris (pas utile mais il faut le lire)\n",
    "        l=fp.readline()\n",
    "        # données\n",
    "        data = list(fp.read(w*h))\n",
    "        if len(data) != w*h:\n",
    "            print ('readPGM: error with ' + file + ': has wrong size')\n",
    "        fp.close()\n",
    "        return (data,w,h)\n",
    "    else:\n",
    "        print( 'readPGM: error with '+ file + ': unsupported format')\n",
    "    fp.close()\n",
    "    return None\n",
    "\n",
    "def writePGM(image,file):\n",
    "   \"\"\" tuple(list[int],int,int)*str -> NoneType\n",
    "   Ecrit une image au format PGM \n",
    "   \"\"\"\n",
    "   data,w,h = image\n",
    "   fp = open(file,'wb')\n",
    "   fp.writelines([bytes('P5\\n'+str(w)+' '+str(h)+'\\n255\\n','utf8')])\n",
    "   fp.write(bytearray(data))\n",
    "   fp.close()"
   ]
  },
  {
   "cell_type": "markdown",
   "metadata": {},
   "source": [
    "Pour voir une image, nous utiliserons une commande de votre système (normalement Linux Debian) qui affichera l'image lu depuis le disque. Si vous utilisez un autre système d'exploitation (OSX ou Windows), il faudra utiliser un programme spécifique.     "
   ]
  },
  {
   "cell_type": "code",
   "execution_count": 2,
   "metadata": {},
   "outputs": [],
   "source": [
    "from os import system\n",
    "\n",
    "def viewImage(image):\n",
    "    \"\"\" tuple[list[int],int,int] -> NoneType\n",
    "    Lit et affiche une image depuis le disque\n",
    "    \"\"\"\n",
    "    writePGM(image,'viewimage.pgm')\n",
    "    system( 'xdg-open viewimage.pgm')\n",
    "    #system( 'rm -f viewimage.pgm')\n"
   ]
  },
  {
   "cell_type": "markdown",
   "metadata": {},
   "source": [
    "# Exercice 1: visualisation et histogramme\n",
    "\n",
    "## 1.1 Voir une image\n",
    "Écrire un code python qui lit l'image <tt>img/carrefou.pgm</tt> l'affiche à l'écran et imprime ses dimensions."
   ]
  },
  {
   "cell_type": "code",
   "execution_count": 4,
   "metadata": {},
   "outputs": [],
   "source": [
    "result = readPGM(\"img/lena.pgm\")\n",
    "viewImage(result)"
   ]
  },
  {
   "cell_type": "markdown",
   "metadata": {},
   "source": [
    "## 1.2 Calcul d'histogramme\n",
    "\n",
    "Écrire une fonction <tt>histogram()</tt> qui prend la liste des valeurs d'une image, un entier <tt>n</tt> et retourne une liste des <tt>n</tt> valeurs représentant l'histogramme de l'image."
   ]
  },
  {
   "cell_type": "code",
   "execution_count": 5,
   "metadata": {},
   "outputs": [],
   "source": [
    "def histogram(data,n):\n",
    "    \"\"\" list[int]*int > list[int] \"\"\"\n",
    "    #initialiser un dictionnaire de 256 case \n",
    "    hist = [0]*n\n",
    "    # nombre de pixel w*h\n",
    "    nbPix = len(data)\n",
    "\n",
    "    for i in range(nbPix):\n",
    "        hist[data[i]]+=1\n",
    "\n",
    "    %matplotlib inline\n",
    "    import matplotlib.pyplot as plt\n",
    "    import numpy as np\n",
    "    x =np.arange(256)\n",
    "    plt.bar(x, height=hist)\n",
    "    plt.show()\n",
    "    return hist\n",
    "    "
   ]
  },
  {
   "cell_type": "markdown",
   "metadata": {},
   "source": [
    "## 1.3 Affichage d'histogramme\n",
    "Écrire un code Python qui charge une image, calcule son histogramme, et l'affiche l'histogramme sous forme textuelle, par exemple:\n",
    "<pre>\n",
    "0 -> 3\n",
    "1 -> 5\n",
    "2 -> 10\n",
    " ...\n",
    "</pre>\n",
    "Dans cet exemple, il faut lire qu'il y a 3 pixels de valeur 0, 5 pixels de valeur 1 et 10 pixels de valeur 2, _etc_.\n"
   ]
  },
  {
   "cell_type": "code",
   "execution_count": 6,
   "metadata": {},
   "outputs": [
    {
     "data": {
      "image/png": "[encoded data removed]",
      "text/plain": [
       "<Figure size 432x288 with 1 Axes>"
      ]
     },
     "metadata": {
      "needs_background": "light"
     },
     "output_type": "display_data"
    },
    {
     "name": "stdout",
     "output_type": "stream",
     "text": [
      "0 -> 0\n",
      "1 -> 0\n",
      "2 -> 2\n",
      "3 -> 0\n",
      "4 -> 0\n",
      "5 -> 0\n",
      "6 -> 2\n",
      "7 -> 4\n",
      "8 -> 8\n",
      "9 -> 9\n",
      "10 -> 10\n",
      "11 -> 5\n",
      "12 -> 14\n",
      "13 -> 19\n",
      "14 -> 63\n",
      "15 -> 370\n",
      "16 -> 663\n",
      "17 -> 318\n",
      "18 -> 123\n",
      "19 -> 135\n",
      "20 -> 145\n",
      "21 -> 167\n",
      "22 -> 197\n",
      "23 -> 184\n",
      "24 -> 238\n",
      "25 -> 285\n",
      "26 -> 291\n",
      "27 -> 335\n",
      "28 -> 382\n",
      "29 -> 347\n",
      "30 -> 411\n",
      "31 -> 422\n",
      "32 -> 445\n",
      "33 -> 518\n",
      "34 -> 544\n",
      "35 -> 564\n",
      "36 -> 598\n",
      "37 -> 646\n",
      "38 -> 709\n",
      "39 -> 686\n",
      "40 -> 795\n",
      "41 -> 852\n",
      "42 -> 960\n",
      "43 -> 1012\n",
      "44 -> 1084\n",
      "45 -> 1221\n",
      "46 -> 1255\n",
      "47 -> 1277\n",
      "48 -> 1379\n",
      "49 -> 1416\n",
      "50 -> 1540\n",
      "51 -> 1606\n",
      "52 -> 1693\n",
      "53 -> 1689\n",
      "54 -> 1746\n",
      "55 -> 1794\n",
      "56 -> 1748\n",
      "57 -> 1702\n",
      "58 -> 1702\n",
      "59 -> 1673\n",
      "60 -> 1578\n",
      "61 -> 1521\n",
      "62 -> 1388\n",
      "63 -> 1378\n",
      "64 -> 1270\n",
      "65 -> 1207\n",
      "66 -> 1128\n",
      "67 -> 1067\n",
      "68 -> 1035\n",
      "69 -> 1007\n",
      "70 -> 930\n",
      "71 -> 920\n",
      "72 -> 875\n",
      "73 -> 789\n",
      "74 -> 740\n",
      "75 -> 731\n",
      "76 -> 651\n",
      "77 -> 573\n",
      "78 -> 608\n",
      "79 -> 563\n",
      "80 -> 495\n",
      "81 -> 558\n",
      "82 -> 467\n",
      "83 -> 418\n",
      "84 -> 405\n",
      "85 -> 351\n",
      "86 -> 346\n",
      "87 -> 345\n",
      "88 -> 310\n",
      "89 -> 285\n",
      "90 -> 278\n",
      "91 -> 263\n",
      "92 -> 222\n",
      "93 -> 221\n",
      "94 -> 215\n",
      "95 -> 201\n",
      "96 -> 209\n",
      "97 -> 188\n",
      "98 -> 180\n",
      "99 -> 153\n",
      "100 -> 144\n",
      "101 -> 160\n",
      "102 -> 135\n",
      "103 -> 104\n",
      "104 -> 119\n",
      "105 -> 96\n",
      "106 -> 86\n",
      "107 -> 73\n",
      "108 -> 73\n",
      "109 -> 56\n",
      "110 -> 67\n",
      "111 -> 49\n",
      "112 -> 36\n",
      "113 -> 41\n",
      "114 -> 24\n",
      "115 -> 37\n",
      "116 -> 22\n",
      "117 -> 22\n",
      "118 -> 23\n",
      "119 -> 17\n",
      "120 -> 6\n",
      "121 -> 14\n",
      "122 -> 24\n",
      "123 -> 9\n",
      "124 -> 7\n",
      "125 -> 6\n",
      "126 -> 4\n",
      "127 -> 10\n",
      "128 -> 0\n",
      "129 -> 0\n",
      "130 -> 0\n",
      "131 -> 0\n",
      "132 -> 0\n",
      "133 -> 0\n",
      "134 -> 0\n",
      "135 -> 0\n",
      "136 -> 0\n",
      "137 -> 0\n",
      "138 -> 0\n",
      "139 -> 0\n",
      "140 -> 0\n",
      "141 -> 0\n",
      "142 -> 0\n",
      "143 -> 0\n",
      "144 -> 0\n",
      "145 -> 0\n",
      "146 -> 0\n",
      "147 -> 0\n",
      "148 -> 0\n",
      "149 -> 0\n",
      "150 -> 0\n",
      "151 -> 0\n",
      "152 -> 0\n",
      "153 -> 0\n",
      "154 -> 0\n",
      "155 -> 0\n",
      "156 -> 0\n",
      "157 -> 0\n",
      "158 -> 0\n",
      "159 -> 0\n",
      "160 -> 0\n",
      "161 -> 0\n",
      "162 -> 0\n",
      "163 -> 0\n",
      "164 -> 0\n",
      "165 -> 0\n",
      "166 -> 0\n",
      "167 -> 0\n",
      "168 -> 0\n",
      "169 -> 0\n",
      "170 -> 0\n",
      "171 -> 0\n",
      "172 -> 0\n",
      "173 -> 0\n",
      "174 -> 0\n",
      "175 -> 0\n",
      "176 -> 0\n",
      "177 -> 0\n",
      "178 -> 0\n",
      "179 -> 0\n",
      "180 -> 0\n",
      "181 -> 0\n",
      "182 -> 0\n",
      "183 -> 0\n",
      "184 -> 0\n",
      "185 -> 0\n",
      "186 -> 0\n",
      "187 -> 0\n",
      "188 -> 0\n",
      "189 -> 0\n",
      "190 -> 0\n",
      "191 -> 0\n",
      "192 -> 0\n",
      "193 -> 0\n",
      "194 -> 0\n",
      "195 -> 0\n",
      "196 -> 0\n",
      "197 -> 0\n",
      "198 -> 0\n",
      "199 -> 0\n",
      "200 -> 0\n",
      "201 -> 0\n",
      "202 -> 0\n",
      "203 -> 0\n",
      "204 -> 0\n",
      "205 -> 0\n",
      "206 -> 0\n",
      "207 -> 0\n",
      "208 -> 0\n",
      "209 -> 0\n",
      "210 -> 0\n",
      "211 -> 0\n",
      "212 -> 0\n",
      "213 -> 0\n",
      "214 -> 0\n",
      "215 -> 0\n",
      "216 -> 0\n",
      "217 -> 0\n",
      "218 -> 0\n",
      "219 -> 0\n",
      "220 -> 0\n",
      "221 -> 0\n",
      "222 -> 0\n",
      "223 -> 0\n",
      "224 -> 0\n",
      "225 -> 0\n",
      "226 -> 0\n",
      "227 -> 0\n",
      "228 -> 0\n",
      "229 -> 0\n",
      "230 -> 0\n",
      "231 -> 0\n",
      "232 -> 0\n",
      "233 -> 0\n",
      "234 -> 0\n",
      "235 -> 0\n",
      "236 -> 0\n",
      "237 -> 0\n",
      "238 -> 0\n",
      "239 -> 0\n",
      "240 -> 0\n",
      "241 -> 0\n",
      "242 -> 0\n",
      "243 -> 0\n",
      "244 -> 0\n",
      "245 -> 0\n",
      "246 -> 0\n",
      "247 -> 0\n",
      "248 -> 0\n",
      "249 -> 0\n",
      "250 -> 0\n",
      "251 -> 0\n",
      "252 -> 0\n",
      "253 -> 0\n",
      "254 -> 0\n",
      "255 -> 0\n"
     ]
    }
   ],
   "source": [
    "result = readPGM(\"img/carrefou.pgm\")\n",
    "hist = histogram(result[0], 256)\n",
    "\n",
    "for i, j in enumerate(hist):\n",
    "    print(i, \"->\", j)"
   ]
  },
  {
   "cell_type": "markdown",
   "metadata": {},
   "source": [
    "# Exercice 2: étirement d'histogramme\n",
    "## 2.1 Étirement \n",
    "Écrire la fonction <tt>etire()</tt> qui prend un histogramme et retourne un tableau (une liste Python) des correspondance entre niveaux de gris avant et après étirement. L'histogramme doit être étiré sur la dynamique la plus grande, c'est-à-dire [0,255]. Si <tt>table</tt> est la liste retournée et si <tt>table[0]</tt> vaut 2, cela signifie que les pixels ayant le niveau de gris 0 auront alors la valeur 2 après étirement de l'histogramme. Indication: utiliser une des fonctions d'arrondis (<tt>floor</tt>, <tt>ceil</tt>, ...) du module Python <tt>math</tt>"
   ]
  },
  {
   "cell_type": "code",
   "execution_count": 7,
   "metadata": {},
   "outputs": [],
   "source": [
    "from math import ceil\n",
    "def etire(his):\n",
    "    \"\"\" list[int] -> list[int] \"\"\"\n",
    "    \n",
    "    for (i, x) in enumerate(reversed(hist)):\n",
    "        if x > 0:\n",
    "            max = 255-i\n",
    "            print(\"max = \", max)\n",
    "            break\n",
    "    for (i, x) in enumerate(hist):\n",
    "        if x > 0:\n",
    "            min = i\n",
    "            print(\"min = \", min)\n",
    "            break\n",
    "    \n",
    "    #table = list(map(lambda x: ceil(256*(x-min)/(max-min)) , list(range(256))))\n",
    "    table=list(range(256))\n",
    "    \n",
    "    for i in range(min, max):\n",
    "        table[i] = ceil((i-min)/(max-min)*255)\n",
    "    \n",
    "    return table\n"
   ]
  },
  {
   "cell_type": "markdown",
   "metadata": {},
   "source": [
    "## 2.2 Changement des valeurs de l'image\n",
    "Écrire la fonction <tt>applique()</tt> qui applique la table obtenue par la fonction <tt>etire()</tt> à la liste des valeurs de l'image pour former une nouvelle image son histogramme étiré."
   ]
  },
  {
   "cell_type": "code",
   "execution_count": 8,
   "metadata": {},
   "outputs": [
    {
     "data": {
      "image/png": "[encoded data removed]",
      "text/plain": [
       "<Figure size 432x288 with 1 Axes>"
      ]
     },
     "metadata": {
      "needs_background": "light"
     },
     "output_type": "display_data"
    },
    {
     "name": "stdout",
     "output_type": "stream",
     "text": [
      "max =  127\n",
      "min =  2\n"
     ]
    },
    {
     "data": {
      "image/png": "[encoded data removed]",
      "text/plain": [
       "<Figure size 432x288 with 1 Axes>"
      ]
     },
     "metadata": {
      "needs_background": "light"
     },
     "output_type": "display_data"
    }
   ],
   "source": [
    "def applique(data,table):\n",
    "    \"\"\" list[int]*list[int] -> list[int] \"\"\"\n",
    "    nbPix = len(data)\n",
    "\n",
    "    for i in range(nbPix):\n",
    "        data[i] = table[data[i]]\n",
    "\n",
    "result = readPGM(\"img/carrefou.pgm\")\n",
    "hist = histogram(result[0], 256)\n",
    "viewImage(result)\n",
    "table = etire(hist)\n",
    "applique(result[0], table)\n",
    "hist2 = histogram(result[0], 256)\n",
    "viewImage(result)"
   ]
  },
  {
   "cell_type": "markdown",
   "metadata": {},
   "source": [
    "## 2.3 Application\n",
    "Mettre en oeuvre les fonctions précédentes sur les images mises à votre disposition. Visualisez le résultat à l'aide de la fonction <tt>viewImage()</tt>.\n",
    "Attention: certaines images ont déjà un histogramme étiré ! Comment le vérifier ? (répondre en commentaire dans le code Python ci-dessous)."
   ]
  },
  {
   "cell_type": "code",
   "execution_count": 4,
   "metadata": {},
   "outputs": [],
   "source": [
    "## certaines images sont déjà étirées car si on comparrai le histogram avant et apres etirement, l'image restera la meme\n"
   ]
  },
  {
   "cell_type": "markdown",
   "metadata": {},
   "source": [
    "# Exercice 3: seuillage d'images\n",
    "## 3.1 Fonction de seuillage\n",
    "Écrire la fonction <tt>seuillage()</tt> qui prend une liste de pixels <tt>data</tt>, un paramètre de seuil <tt>t</tt>. La liste de valeurs retournées sera consitituée d'une liste de valeur à 0 (pour les valeurs en dessous du seuil <tt>t</tt>) ou 255 (pour les autres valeurs).\n"
   ]
  },
  {
   "cell_type": "code",
   "execution_count": 9,
   "metadata": {},
   "outputs": [],
   "source": [
    "def seuillage(data,t):\n",
    "    \"\"\" list[int]*int -> list[int] \"\"\"\n",
    "    for i in range(len(data)):\n",
    "        data[i] = 255 if data[i] > t else 0"
   ]
  },
  {
   "cell_type": "markdown",
   "metadata": {},
   "source": [
    "## 3.2 Application\n",
    "Appliquer la fonction de seuillage à différentes images et faire varier le seuil. Utiliser la fonction <tt>viewImage()</tt> pour visualiser ces opérations de seuillage."
   ]
  },
  {
   "cell_type": "code",
   "execution_count": 10,
   "metadata": {},
   "outputs": [],
   "source": [
    "result = readPGM(\"img/couloir.pgm\")\n",
    "#plt.hist(result[0])\n",
    "seuillage(result[0], 20)\n",
    "#plt.hist(result)\n",
    "writePGM(result, \"img/couloir_etire.pgm\")\n",
    "viewImage(result)"
   ]
  },
  {
   "cell_type": "markdown",
   "metadata": {},
   "source": [
    "# Exercice 4: égalisation d'histogramme \n",
    "## 4.1 Égalisation\n",
    "Écrire la fonction <tt>egalisation()</tt> qui prend un histogramme, applique une égalisation d'histogramme et retourne la table des correspondances entre niveaux de gris avant et après égalisation. L'égalisation d'histogramme consiste à transformer chaque valeur de niveau de gris $k$ en $k'$ selon la formule: $k' = Int\\left(\\frac{L-1}{N \\times M}H_c(k)\\right)$ où $H_c$ est l'histogramme cumulé, $N\\times M$ la taille de l'image et $L$ la dynamique de l'image."
   ]
  },
  {
   "cell_type": "code",
   "execution_count": 6,
   "metadata": {},
   "outputs": [],
   "source": [
    "def egalisation(his):\n",
    "    \"\"\" list[int] -> list[int] \"\"\""
   ]
  },
  {
   "cell_type": "markdown",
   "metadata": {},
   "source": [
    "## 4.2 Application\n",
    "Écrire un code Python qui lit une image, réalise son égalisation d'histogramme et affiche la nouvelle image égalisée."
   ]
  },
  {
   "cell_type": "code",
   "execution_count": 77,
   "metadata": {},
   "outputs": [],
   "source": []
  }
 ],
 "metadata": {
  "kernelspec": {
   "display_name": "Python 3",
   "language": "python",
   "name": "python3"
  },
  "language_info": {
   "codemirror_mode": {
    "name": "ipython",
    "version": 3
   },
   "file_extension": ".py",
   "mimetype": "text/x-python",
   "name": "python",
   "nbconvert_exporter": "python",
   "pygments_lexer": "ipython3",
   "version": "3.7.3"
  }
 },
 "nbformat": 4,
 "nbformat_minor": 2
}
